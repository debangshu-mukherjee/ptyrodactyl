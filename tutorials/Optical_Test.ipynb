{
 "cells": [
  {
   "cell_type": "code",
   "execution_count": null,
   "id": "2bba2792-b0cc-4e41-8cd9-7aa217dcd694",
   "metadata": {},
   "outputs": [],
   "source": [
    "import ptyrodactyl.optics as pto\n",
    "import jax \n",
    "import jax.numpy as jnp\n",
    "from jaxtyping import Array, Float, Shaped, Int, Complex\n",
    "import matplotlib.pyplot as plt"
   ]
  },
  {
   "cell_type": "code",
   "execution_count": null,
   "id": "b6f8fbbc-df72-4b5e-b023-10715fb62ff8",
   "metadata": {},
   "outputs": [],
   "source": [
    "%load_ext autoreload\n",
    "%autoreload 2"
   ]
  },
  {
   "cell_type": "code",
   "execution_count": null,
   "id": "6fc22ee7-572c-4550-b6ba-50f5f6c6dc74",
   "metadata": {},
   "outputs": [],
   "source": [
    "pixel_spacing_real = 200/(10**9)\n",
    "collimated_beam_waist = 10/(10**3)\n",
    "image_fov_x = 450/(10**6)\n",
    "image_fov_y = 450/(10**6)"
   ]
  },
  {
   "cell_type": "code",
   "execution_count": null,
   "id": "4e9b35de-51fd-470d-9d3d-a3cdd7d60a6f",
   "metadata": {},
   "outputs": [],
   "source": [
    "num_pixels = image_fov_y/pixel_spacing_real"
   ]
  },
  {
   "cell_type": "code",
   "execution_count": null,
   "id": "56ddc344-d539-4872-a704-137c8ab07b36",
   "metadata": {},
   "outputs": [],
   "source": [
    "xo = jnp.arange(start=-num_pixels/2, stop=num_pixels/2, step=1)\n",
    "Xo, Yo = jnp.meshgrid(xo, xo)\n",
    "Xo *= pixel_spacing_real\n",
    "Yo *= pixel_spacing_real"
   ]
  },
  {
   "cell_type": "code",
   "execution_count": null,
   "id": "60a017ac-90ee-4b26-b876-7fe267dea333",
   "metadata": {},
   "outputs": [
    {
     "data": {
      "text/plain": [
       "<matplotlib.image.AxesImage>"
      ]
     },
     "execution_count": null,
     "metadata": {},
     "output_type": "execute_result"
    },
    {
     "data": {
      "image/png": "[encoded data removed]",
      "text/plain": [
       "<Figure size 640x480 with 1 Axes>"
      ]
     },
     "metadata": {},
     "output_type": "display_data"
    }
   ],
   "source": [
    "Ro = ((Xo**2) + (Yo**2))**0.5\n",
    "aperture_radius = 0.05/(10**3)\n",
    "plt.imshow(Ro < aperture_radius)"
   ]
  },
  {
   "cell_type": "code",
   "execution_count": null,
   "id": "eae4ef99-921e-4da3-bc21-6f4eb657ab4f",
   "metadata": {},
   "outputs": [
    {
     "ename": "AttributeError",
     "evalue": "module 'jax.numpy' has no attribute 'cart2pol'",
     "output_type": "error",
     "traceback": [
      "\u001b[0;31m---------------------------------------------------------------------------\u001b[0m",
      "\u001b[0;31mAttributeError\u001b[0m                            Traceback (most recent call last)",
      "Cell \u001b[0;32mIn[17], line 4\u001b[0m\n\u001b[1;32m      2\u001b[0m d \u001b[38;5;241m=\u001b[39m \u001b[38;5;241m1e-3\u001b[39m  \u001b[38;5;66;03m# the smaller this parameter the larger the spatial frequencies in the simulated object\u001b[39;00m\n\u001b[1;32m      3\u001b[0m b \u001b[38;5;241m=\u001b[39m \u001b[38;5;241m56\u001b[39m  \u001b[38;5;66;03m# topological charge (feel free to play with this number)\u001b[39;00m\n\u001b[0;32m----> 4\u001b[0m theta, rho \u001b[38;5;241m=\u001b[39m \u001b[43mjnp\u001b[49m\u001b[38;5;241;43m.\u001b[39;49m\u001b[43mcart2pol\u001b[49m(Xo, Yo)\n\u001b[1;32m      5\u001b[0m t \u001b[38;5;241m=\u001b[39m (\u001b[38;5;241m1\u001b[39m \u001b[38;5;241m+\u001b[39m np\u001b[38;5;241m.\u001b[39msign(np\u001b[38;5;241m.\u001b[39msin(b \u001b[38;5;241m*\u001b[39m theta \u001b[38;5;241m+\u001b[39m \u001b[38;5;241m2\u001b[39m \u001b[38;5;241m*\u001b[39m np\u001b[38;5;241m.\u001b[39mpi \u001b[38;5;241m*\u001b[39m (rho \u001b[38;5;241m/\u001b[39m d) \u001b[38;5;241m*\u001b[39m\u001b[38;5;241m*\u001b[39m \u001b[38;5;241m2\u001b[39m))) \u001b[38;5;241m/\u001b[39m \u001b[38;5;241m2\u001b[39m\n\u001b[1;32m      6\u001b[0m t \u001b[38;5;241m=\u001b[39m t \u001b[38;5;241m*\u001b[39m circ(Xo, Yo, Lo) \u001b[38;5;241m*\u001b[39m (\u001b[38;5;241m1\u001b[39m \u001b[38;5;241m-\u001b[39m circ(Xo, Yo, \u001b[38;5;241m200\u001b[39m \u001b[38;5;241m*\u001b[39m dxo)) \u001b[38;5;241m+\u001b[39m circ(Xo, Yo, \u001b[38;5;241m130\u001b[39m \u001b[38;5;241m*\u001b[39m dxo)\n",
      "File \u001b[0;32m~/ptyrodactyl/.venv/lib/python3.12/site-packages/jax/_src/deprecations.py:55\u001b[0m, in \u001b[0;36mdeprecation_getattr.<locals>.getattr\u001b[0;34m(name)\u001b[0m\n\u001b[1;32m     53\u001b[0m   warnings\u001b[38;5;241m.\u001b[39mwarn(message, \u001b[38;5;167;01mDeprecationWarning\u001b[39;00m, stacklevel\u001b[38;5;241m=\u001b[39m\u001b[38;5;241m2\u001b[39m)\n\u001b[1;32m     54\u001b[0m   \u001b[38;5;28;01mreturn\u001b[39;00m fn\n\u001b[0;32m---> 55\u001b[0m \u001b[38;5;28;01mraise\u001b[39;00m \u001b[38;5;167;01mAttributeError\u001b[39;00m(\u001b[38;5;124mf\u001b[39m\u001b[38;5;124m\"\u001b[39m\u001b[38;5;124mmodule \u001b[39m\u001b[38;5;132;01m{\u001b[39;00mmodule\u001b[38;5;132;01m!r}\u001b[39;00m\u001b[38;5;124m has no attribute \u001b[39m\u001b[38;5;132;01m{\u001b[39;00mname\u001b[38;5;132;01m!r}\u001b[39;00m\u001b[38;5;124m\"\u001b[39m)\n",
      "\u001b[0;31mAttributeError\u001b[0m: module 'jax.numpy' has no attribute 'cart2pol'"
     ]
    }
   ],
   "source": [
    "# generate test object\n",
    "d = 1e-3  # the smaller this parameter the larger the spatial frequencies in the simulated object\n",
    "b = 56  # topological charge (feel free to play with this number)\n",
    "theta, rho = jnp.cart2pol(Xo, Yo)\n",
    "t = (1 + np.sign(np.sin(b * theta + 2 * np.pi * (rho / d) ** 2))) / 2\n",
    "t = t * circ(Xo, Yo, Lo) * (1 - circ(Xo, Yo, 200 * dxo)) + circ(Xo, Yo, 130 * dxo)\n",
    "obj = convolve2d(t, gaussian2D(5, 5), mode=\"same\")  # smooth edges"
   ]
  },
  {
   "cell_type": "code",
   "execution_count": null,
   "id": "fe6aa370-62cf-4d04-8259-31659a7eeb48",
   "metadata": {},
   "outputs": [],
   "source": []
  }
 ],
 "metadata": {
  "kernelspec": {
   "display_name": "ptyrodactyl",
   "language": "python",
   "name": "ptyrodactyl"
  }
 },
 "nbformat": 4,
 "nbformat_minor": 5
}
