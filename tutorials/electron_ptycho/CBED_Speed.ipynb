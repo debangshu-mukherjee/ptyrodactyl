{
 "cells": [
  {
   "cell_type": "code",
   "execution_count": 1,
   "id": "bc316784-82e8-41fd-9fb3-a692e69878ef",
   "metadata": {},
   "outputs": [],
   "source": [
    "import jax\n",
    "import jax.numpy as jnp\n",
    "import time\n",
    "import ptyrodactyl.electrons as pte\n",
    "import ptyrodactyl.tools as ptt\n",
    "import matplotlib.pyplot as plt"
   ]
  },
  {
   "cell_type": "code",
   "execution_count": 3,
   "id": "def482a6-ce40-4ee8-831f-63fe4c08bbab",
   "metadata": {},
   "outputs": [],
   "source": [
    "%load_ext autoreload\n",
    "%autoreload 2"
   ]
  },
  {
   "cell_type": "code",
   "execution_count": 4,
   "id": "3c3ead73-db56-4e8a-aa0d-0579420378b0",
   "metadata": {},
   "outputs": [],
   "source": [
    "jax.config.update(\"jax_enable_x64\", True)"
   ]
  },
  {
   "cell_type": "code",
   "execution_count": 5,
   "id": "bb245e2b-f063-48d4-b8c6-11becf8240dd",
   "metadata": {},
   "outputs": [],
   "source": [
    "key = jax.random.PRNGKey(0)"
   ]
  },
  {
   "cell_type": "code",
   "execution_count": 7,
   "id": "b6f25787-8bfe-49ff-9889-efd7ba19df59",
   "metadata": {},
   "outputs": [],
   "source": [
    "calibration = 0.1\n",
    "num_modes = 200\n",
    "beam_test_m = jax.random.normal(key, shape=(256, 256, num_modes), dtype=jnp.complex64)\n",
    "beam_weights = jnp.arange(num_modes)\n",
    "beam_weights /= jnp.sum(beam_weights)\n",
    "slice_test_m = jax.random.normal(key, shape=(256, 256, 500), dtype=jnp.float64)"
   ]
  },
  {
   "cell_type": "code",
   "execution_count": 11,
   "id": "fbb95956-3aae-43b7-8fd0-e0d361e74c9e",
   "metadata": {},
   "outputs": [],
   "source": [
    "slices = pte.make_potential_slices(slice_test_m, 1, calibration)\n",
    "beams = pte.make_probe_modes(beam_test_m, beam_weights, calibration)"
   ]
  },
  {
   "cell_type": "code",
   "execution_count": 12,
   "id": "761afa7b-06fd-48dd-bcb9-b0a53986d923",
   "metadata": {},
   "outputs": [],
   "source": [
    "test_cbed = jax.jit(pte.cbed)"
   ]
  },
  {
   "cell_type": "code",
   "execution_count": 13,
   "id": "c945f2f3-0018-4dbf-892d-668496c402d5",
   "metadata": {},
   "outputs": [
    {
     "name": "stdout",
     "output_type": "stream",
     "text": [
      "6.81 s ± 1.73 ms per loop (mean ± std. dev. of 7 runs, 1 loop each)\n"
     ]
    }
   ],
   "source": [
    "%timeit test_cbed(slices, beams, jnp.asarray(60.0))"
   ]
  },
  {
   "cell_type": "code",
   "execution_count": 14,
   "id": "bc609201-1fdb-4171-8a71-4af36f30ff59",
   "metadata": {},
   "outputs": [],
   "source": [
    "num_modes = 3\n",
    "beam_weights = jnp.flip(1 + jnp.arange(num_modes))\n",
    "beam_weights /= jnp.sum(beam_weights)\n",
    "beam_test_small = jax.random.normal(\n",
    "    key, shape=(128, 128, num_modes), dtype=jnp.complex64\n",
    ")\n",
    "slice_test_small = jax.random.normal(key, shape=(128, 128, 200), dtype=jnp.float64)\n",
    "slices_small = pte.make_potential_slices(slice_test_small, 1, calibration)\n",
    "beams_small = pte.make_probe_modes(beam_test_small, beam_weights, calibration)"
   ]
  },
  {
   "cell_type": "code",
   "execution_count": 15,
   "id": "8a7249d6-41c1-4169-92c2-dfd3eff53edd",
   "metadata": {},
   "outputs": [],
   "source": [
    "calib_ang = 0.2\n",
    "x = jnp.arange(-5, 5, calib_ang)\n",
    "y = jnp.arange(-5, 5, calib_ang)\n",
    "xx, yy = jnp.meshgrid(x, y)\n",
    "positions = jnp.asarray((xx.ravel(), yy.ravel())).T"
   ]
  },
  {
   "cell_type": "code",
   "execution_count": 16,
   "id": "ec0d90e1-a983-437a-a3ba-ecb7da966d28",
   "metadata": {},
   "outputs": [],
   "source": [
    "test_stem4d = jax.jit(pte.stem_4D)"
   ]
  },
  {
   "cell_type": "code",
   "execution_count": 17,
   "id": "74ed29f8-13ee-46fc-984c-0ddd6c96a2c2",
   "metadata": {},
   "outputs": [
    {
     "name": "stdout",
     "output_type": "stream",
     "text": [
      "23.8 s ± 4.73 ms per loop (mean ± std. dev. of 7 runs, 1 loop each)\n"
     ]
    }
   ],
   "source": [
    "%timeit test_stem4d(slices_small, beams_small, positions, jnp.asarray(60), calib_ang)"
   ]
  }
 ],
 "metadata": {
  "kernelspec": {
   "display_name": "ptyrodactyl",
   "language": "python",
   "name": "myproject"
  },
  "language_info": {
   "codemirror_mode": {
    "name": "ipython",
    "version": 3
   },
   "file_extension": ".py",
   "mimetype": "text/x-python",
   "name": "python",
   "nbconvert_exporter": "python",
   "pygments_lexer": "ipython3",
   "version": "3.12.8"
  }
 },
 "nbformat": 4,
 "nbformat_minor": 5
}
