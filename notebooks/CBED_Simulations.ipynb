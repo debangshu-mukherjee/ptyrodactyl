{
 "cells": [
  {
   "cell_type": "code",
   "execution_count": null,
   "id": "2826bcd5-2d96-4624-b449-f02734f5b890",
   "metadata": {},
   "outputs": [],
   "source": [
    "import jax\n",
    "import jax.numpy as jnp\n",
    "import ptyrodactyl.electrons as pte\n",
    "from jaxtyping import Array, Float, Shaped, Int, Complex\n",
    "import matplotlib.pyplot as plt"
   ]
  },
  {
   "cell_type": "code",
   "execution_count": null,
   "id": "ba98c8ad-500b-4024-97c8-b4bab7e149ac",
   "metadata": {},
   "outputs": [],
   "source": [
    "%load_ext autoreload\n",
    "%autoreload 2"
   ]
  },
  {
   "cell_type": "code",
   "execution_count": null,
   "id": "3c3ead73-db56-4e8a-aa0d-0579420378b0",
   "metadata": {},
   "outputs": [],
   "source": [
    "jax.config.update(\"jax_enable_x64\", True)"
   ]
  },
  {
   "cell_type": "code",
   "execution_count": null,
   "id": "bb245e2b-f063-48d4-b8c6-11becf8240dd",
   "metadata": {},
   "outputs": [],
   "source": [
    "key = jax.random.PRNGKey(0)"
   ]
  },
  {
   "cell_type": "code",
   "execution_count": null,
   "id": "b6f25787-8bfe-49ff-9889-efd7ba19df59",
   "metadata": {},
   "outputs": [],
   "source": [
    "beam_test_s = jax.random.normal(key, shape=(256, 256), dtype=jnp.complex64)\n",
    "slice_test_s = jax.random.normal(key, shape=(256, 256), dtype=jnp.complex64)\n",
    "\n",
    "beam_test_m = jax.random.normal(key, shape=(256, 256, 32), dtype=jnp.complex64)\n",
    "slice_test_m = jax.random.normal(key, shape=(256, 256, 500), dtype=jnp.complex64)"
   ]
  },
  {
   "cell_type": "code",
   "execution_count": null,
   "id": "761afa7b-06fd-48dd-bcb9-b0a53986d923",
   "metadata": {},
   "outputs": [],
   "source": [
    "test_func_ss = jax.jit(pte.cbed_single_slice_single_beam)\n",
    "test_func_sm = jax.jit(pte.cbed_single_slice_multi_beam)\n",
    "test_func_ms = jax.jit(pte.cbed_multi_slice_single_beam)\n",
    "test_func_mm = jax.jit(pte.cbed_multi_slice_multi_beam)\n",
    "test_func_ns = jax.jit(pte.cbed_noslice)"
   ]
  },
  {
   "cell_type": "code",
   "execution_count": null,
   "id": "c945f2f3-0018-4dbf-892d-668496c402d5",
   "metadata": {},
   "outputs": [
    {
     "name": "stdout",
     "output_type": "stream",
     "text": [
      "50.1 μs ± 1.46 μs per loop (mean ± std. dev. of 7 runs, 10,000 loops each)\n"
     ]
    }
   ],
   "source": [
    "%timeit test_func_ss(slice_test_s, beam_test_s)"
   ]
  },
  {
   "cell_type": "code",
   "execution_count": null,
   "id": "f7dad9d2-f8dd-49ee-8df9-368f7158a5e7",
   "metadata": {},
   "outputs": [
    {
     "name": "stdout",
     "output_type": "stream",
     "text": [
      "332 μs ± 145 ns per loop (mean ± std. dev. of 7 runs, 1,000 loops each)\n"
     ]
    }
   ],
   "source": [
    "%timeit test_func_sm(slice_test_s, beam_test_m)"
   ]
  },
  {
   "cell_type": "code",
   "execution_count": null,
   "id": "c53ec469-d43c-454f-ab0f-f354e996b704",
   "metadata": {},
   "outputs": [
    {
     "name": "stdout",
     "output_type": "stream",
     "text": [
      "51.2 ms ± 11.7 μs per loop (mean ± std. dev. of 7 runs, 10 loops each)\n"
     ]
    }
   ],
   "source": [
    "%timeit test_func_ms(slice_test_m, beam_test_s, jnp.float64(1.003), jnp.float64(60.001), jnp.float64(0.01))"
   ]
  },
  {
   "cell_type": "code",
   "execution_count": null,
   "id": "c6f54a07-eb1f-421a-ae75-db869a344f21",
   "metadata": {},
   "outputs": [
    {
     "name": "stdout",
     "output_type": "stream",
     "text": [
      "1.14 s ± 184 μs per loop (mean ± std. dev. of 7 runs, 1 loop each)\n"
     ]
    }
   ],
   "source": [
    "%timeit test_func_mm(slice_test_m, beam_test_m, jnp.float64(1.003), jnp.float64(60.001), jnp.float64(0.01))"
   ]
  },
  {
   "cell_type": "code",
   "execution_count": null,
   "id": "3f5c7cba-85a1-491a-943d-9c1dc4a29d91",
   "metadata": {},
   "outputs": [
    {
     "name": "stdout",
     "output_type": "stream",
     "text": [
      "1.03 s ± 174 μs per loop (mean ± std. dev. of 7 runs, 1 loop each)\n"
     ]
    }
   ],
   "source": [
    "%timeit test_func_ns(slice_test_m, beam_test_m, jnp.float64(1.003), jnp.float64(60.001), jnp.float64(0.01))"
   ]
  },
  {
   "cell_type": "code",
   "execution_count": null,
   "id": "bb2109ac-26c8-4d3b-9eda-82ba1fc241f1",
   "metadata": {},
   "outputs": [],
   "source": [
    "cc_sm1 = test_func_ss(slice_test_s, beam_test_s)\n",
    "cc_sm2 = test_func_ns(\n",
    "    slice_test_s,\n",
    "    beam_test_s,\n",
    "    jnp.float64(1.003),\n",
    "    jnp.float64(60.001),\n",
    "    jnp.float64(0.01),\n",
    ")"
   ]
  },
  {
   "cell_type": "code",
   "execution_count": null,
   "id": "5d06e4b5-3020-41e8-827c-ba79ff9298f8",
   "metadata": {},
   "outputs": [
    {
     "data": {
      "text/plain": [
       "Array([[3.01474971e-53, 2.99483762e-53, 2.97364396e-53, ...,\n",
       "        3.00061550e-53, 3.01902223e-53, 3.02394873e-53],\n",
       "       [7.49687190e-60, 7.49704475e-60, 7.49720485e-60, ...,\n",
       "        7.49708906e-60, 7.49688446e-60, 7.49679833e-60],\n",
       "       [1.00686925e-38, 1.00686925e-38, 1.00686925e-38, ...,\n",
       "        1.00686925e-38, 1.00686925e-38, 1.00686925e-38],\n",
       "       ...,\n",
       "       [3.24375101e-54, 3.24374820e-54, 3.24374686e-54, ...,\n",
       "        3.24376359e-54, 3.24375931e-54, 3.24375509e-54],\n",
       "       [4.38071617e-41, 4.37999246e-41, 4.37939773e-41, ...,\n",
       "        4.38292449e-41, 4.38226132e-41, 4.38149855e-41],\n",
       "       [4.52519887e-57, 4.52516202e-57, 4.52518173e-57, ...,\n",
       "        4.52516332e-57, 4.52518980e-57, 4.52516827e-57]], dtype=float64)"
      ]
     },
     "execution_count": null,
     "metadata": {},
     "output_type": "execute_result"
    }
   ],
   "source": [
    "test_func_ns(\n",
    "    slice_test_m,\n",
    "    beam_test_m,\n",
    "    jnp.float64(1.003),\n",
    "    jnp.float64(60.001),\n",
    "    jnp.float64(0.01),\n",
    ")"
   ]
  },
  {
   "cell_type": "code",
   "execution_count": null,
   "id": "101c2853-565e-4de7-ba27-04317ebcfeb7",
   "metadata": {},
   "outputs": [
    {
     "data": {
      "text/plain": [
       "<matplotlib.image.AxesImage>"
      ]
     },
     "execution_count": null,
     "metadata": {},
     "output_type": "execute_result"
    },
    {
     "data": {
      "image/png": "[encoded data removed]",
      "text/plain": [
       "<Figure size 640x480 with 1 Axes>"
      ]
     },
     "metadata": {},
     "output_type": "display_data"
    }
   ],
   "source": [
    "plt.imshow(\n",
    "    test_func_ns(\n",
    "        slice_test_m,\n",
    "        beam_test_m,\n",
    "        jnp.float64(1.003),\n",
    "        jnp.float64(60.001),\n",
    "        jnp.float64(0.01),\n",
    "    )\n",
    ")"
   ]
  },
  {
   "cell_type": "code",
   "execution_count": null,
   "id": "ed2e22e1-2a56-4fcd-9a24-cbc90fd4a165",
   "metadata": {},
   "outputs": [
    {
     "data": {
      "text/plain": [
       "Array(True, dtype=bool)"
      ]
     },
     "execution_count": null,
     "metadata": {},
     "output_type": "execute_result"
    }
   ],
   "source": [
    "jnp.allclose(jnp.atleast_3d(slice_test_m), slice_test_m)"
   ]
  },
  {
   "cell_type": "code",
   "execution_count": null,
   "id": "7cf6827d-37c7-44d6-9b74-0007ed3f64d7",
   "metadata": {},
   "outputs": [],
   "source": []
  }
 ],
 "metadata": {
  "kernelspec": {
   "display_name": "jax",
   "language": "python",
   "name": "jax"
  }
 },
 "nbformat": 4,
 "nbformat_minor": 5
}
