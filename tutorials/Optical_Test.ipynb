{
 "cells": [
  {
   "cell_type": "code",
   "execution_count": 9,
   "id": "2bba2792-b0cc-4e41-8cd9-7aa217dcd694",
   "metadata": {},
   "outputs": [],
   "source": [
    "import ptyrodactyl.photons as ptp\n",
    "import jax \n",
    "import jax.numpy as jnp\n",
    "from jaxtyping import Array, Float, Shaped, Int, Complex\n",
    "import matplotlib.pyplot as plt"
   ]
  },
  {
   "cell_type": "code",
   "execution_count": 3,
   "id": "b6f8fbbc-df72-4b5e-b023-10715fb62ff8",
   "metadata": {},
   "outputs": [],
   "source": [
    "%load_ext autoreload\n",
    "%autoreload 2"
   ]
  },
  {
   "cell_type": "code",
   "execution_count": 15,
   "id": "6fc22ee7-572c-4550-b6ba-50f5f6c6dc74",
   "metadata": {},
   "outputs": [],
   "source": [
    "pixel_spacing_real = 200/(10**9)\n",
    "collimated_beam_waist = 10/(10**3)\n",
    "image_fov_x = 450/(10**6)\n",
    "image_fov_y = 450/(10**6)\n",
    "wavelength = 633/(10**9)"
   ]
  },
  {
   "cell_type": "code",
   "execution_count": 8,
   "id": "4e9b35de-51fd-470d-9d3d-a3cdd7d60a6f",
   "metadata": {},
   "outputs": [
    {
     "data": {
      "text/plain": [
       "2250.0"
      ]
     },
     "execution_count": 8,
     "metadata": {},
     "output_type": "execute_result"
    }
   ],
   "source": [
    "num_pixels = image_fov_y/pixel_spacing_real\n",
    "num_pixels"
   ]
  },
  {
   "cell_type": "code",
   "execution_count": 16,
   "id": "73365382-4e6d-4098-aa03-2462971f9419",
   "metadata": {},
   "outputs": [
    {
     "data": {
      "text/plain": [
       "OpticalWavefront(field=Array([[1590.99025767, 1590.28330809, 1589.57667321, ..., 1588.87035343,\n",
       "        1589.57667321, 1590.28330809],\n",
       "       [1590.28330809, 1589.57604411, 1588.86909467, ..., 1588.1624602 ,\n",
       "        1588.86909467, 1589.57604411],\n",
       "       [1589.57667321, 1588.86909467, 1588.16183054, ..., 1587.45488125,\n",
       "        1588.16183054, 1588.86909467],\n",
       "       ...,\n",
       "       [1588.87035343, 1588.1624602 , 1587.45488125, ..., 1586.74761698,\n",
       "        1587.45488125, 1588.1624602 ],\n",
       "       [1589.57667321, 1588.86909467, 1588.16183054, ..., 1587.45488125,\n",
       "        1588.16183054, 1588.86909467],\n",
       "       [1590.28330809, 1589.57604411, 1588.86909467, ..., 1588.1624602 ,\n",
       "        1588.86909467, 1589.57604411]], dtype=float64), wavelength=6.33e-07, dx=2e-07, z_position=0)"
      ]
     },
     "execution_count": 16,
     "metadata": {},
     "output_type": "execute_result"
    }
   ],
   "source": [
    "xo = jnp.arange(start=-num_pixels/2, stop=num_pixels/2, step=1)\n",
    "Xo, Yo = jnp.meshgrid(xo, xo)\n",
    "Ro = ((Xo**2) + (Yo**2))**0.5"
   ]
  },
  {
   "cell_type": "code",
   "execution_count": 25,
   "id": "6c4f9161-b82d-4acf-b594-bab058338ff9",
   "metadata": {},
   "outputs": [],
   "source": [
    "starting_object = jnp.ones(shape=(2048, 2048), dtype=jnp.complex128)\n",
    "object_dx = 3.45/(10**6)\n",
    "z0 = 0.0\n",
    "starting_wave = ptp.OpticalWavefront(starting_object, wavelength, object_dx, z0)"
   ]
  },
  {
   "cell_type": "code",
   "execution_count": 27,
   "id": "47257675-4ec1-47ab-9ca5-56567a2730be",
   "metadata": {},
   "outputs": [],
   "source": [
    "after_aperture = ptp.circular_aperture(starting_wave, 100/(10**6))"
   ]
  },
  {
   "cell_type": "code",
   "execution_count": 28,
   "id": "56ddc344-d539-4872-a704-137c8ab07b36",
   "metadata": {},
   "outputs": [
    {
     "data": {
      "text/plain": [
       "OpticalWavefront(field=Array([[0.+0.j, 0.+0.j, 0.+0.j, ..., 0.+0.j, 0.+0.j, 0.+0.j],\n",
       "       [0.+0.j, 0.+0.j, 0.+0.j, ..., 0.+0.j, 0.+0.j, 0.+0.j],\n",
       "       [0.+0.j, 0.+0.j, 0.+0.j, ..., 0.+0.j, 0.+0.j, 0.+0.j],\n",
       "       ...,\n",
       "       [0.+0.j, 0.+0.j, 0.+0.j, ..., 0.+0.j, 0.+0.j, 0.+0.j],\n",
       "       [0.+0.j, 0.+0.j, 0.+0.j, ..., 0.+0.j, 0.+0.j, 0.+0.j],\n",
       "       [0.+0.j, 0.+0.j, 0.+0.j, ..., 0.+0.j, 0.+0.j, 0.+0.j]],      dtype=complex128), wavelength=6.33e-07, dx=3.45e-06, z_position=0.0)"
      ]
     },
     "execution_count": 28,
     "metadata": {},
     "output_type": "execute_result"
    }
   ],
   "source": [
    "after_aperture"
   ]
  },
  {
   "cell_type": "code",
   "execution_count": 31,
   "id": "60a017ac-90ee-4b26-b876-7fe267dea333",
   "metadata": {},
   "outputs": [
    {
     "data": {
      "text/plain": [
       "<matplotlib.image.AxesImage at 0x765368142210>"
      ]
     },
     "execution_count": 31,
     "metadata": {},
     "output_type": "execute_result"
    },
    {
     "data": {
      "image/png": "[encoded data removed]",
      "text/plain": [
       "<Figure size 640x480 with 1 Axes>"
      ]
     },
     "metadata": {},
     "output_type": "display_data"
    }
   ],
   "source": [
    "plt.imshow(jnp.abs(after_aperture.field))"
   ]
  }
 ],
 "metadata": {
  "kernelspec": {
   "display_name": "ptyrodactyl",
   "language": "python",
   "name": "ptyrodactyl"
  },
  "language_info": {
   "codemirror_mode": {
    "name": "ipython",
    "version": 3
   },
   "file_extension": ".py",
   "mimetype": "text/x-python",
   "name": "python",
   "nbconvert_exporter": "python",
   "pygments_lexer": "ipython3",
   "version": "3.12.8"
  }
 },
 "nbformat": 4,
 "nbformat_minor": 5
}
