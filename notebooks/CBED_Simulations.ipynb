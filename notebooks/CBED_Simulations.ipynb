{
 "cells": [
  {
   "cell_type": "code",
   "execution_count": null,
   "id": "2826bcd5-2d96-4624-b449-f02734f5b890",
   "metadata": {},
   "outputs": [],
   "source": [
    "import jax\n",
    "import jax.numpy as jnp\n",
    "import ptyrodactyl.electrons as pte\n",
    "from jaxtyping import Array, Float, Shaped, Int, Complex"
   ]
  },
  {
   "cell_type": "code",
   "execution_count": null,
   "id": "3c3ead73-db56-4e8a-aa0d-0579420378b0",
   "metadata": {},
   "outputs": [],
   "source": [
    "jax.config.update(\"jax_enable_x64\", True)"
   ]
  },
  {
   "cell_type": "code",
   "execution_count": null,
   "id": "b6f25787-8bfe-49ff-9889-efd7ba19df59",
   "metadata": {},
   "outputs": [
    {
     "name": "stderr",
     "output_type": "stream",
     "text": [
      "2024-08-12 14:49:08.144746: W external/xla/xla/service/gpu/nvptx_compiler.cc:836] The NVIDIA driver's CUDA version is 12.5 which is older than the PTX compiler version (12.6.20). Because the driver is older than the PTX compiler version, XLA is disabling parallel compilation, which may slow down compilation. You should update your NVIDIA driver or use the NVIDIA-provided CUDA forward compatibility packages.\n"
     ]
    }
   ],
   "source": [
    "beam_test_s = jnp.ones((256, 256), dtype=jnp.complex64)\n",
    "slice_test_s = jnp.ones((256, 256), dtype=jnp.complex64)\n",
    "\n",
    "beam_test_m = jnp.ones((256, 256, 32), dtype=jnp.complex64)\n",
    "slice_test_m = jnp.ones((256, 256, 50), dtype=jnp.complex64)"
   ]
  },
  {
   "cell_type": "code",
   "execution_count": null,
   "id": "761afa7b-06fd-48dd-bcb9-b0a53986d923",
   "metadata": {},
   "outputs": [],
   "source": [
    "test_func_ss = jax.jit(pte.cbed_single_slice_single_beam)\n",
    "test_func_sm = jax.jit(pte.cbed_single_slice_multi_beam)\n",
    "test_func_ms = jax.jit(pte.cbed_multi_slice_single_beam)\n",
    "test_func_mm = jax.jit(pte.cbed_multi_slice_multi_beam)"
   ]
  },
  {
   "cell_type": "code",
   "execution_count": null,
   "id": "c945f2f3-0018-4dbf-892d-668496c402d5",
   "metadata": {},
   "outputs": [
    {
     "name": "stdout",
     "output_type": "stream",
     "text": [
      "44.5 μs ± 800 ns per loop (mean ± std. dev. of 7 runs, 10,000 loops each)\n"
     ]
    }
   ],
   "source": [
    "%timeit test_func_ss(slice_test_s, beam_test_s)"
   ]
  },
  {
   "cell_type": "code",
   "execution_count": null,
   "id": "f7dad9d2-f8dd-49ee-8df9-368f7158a5e7",
   "metadata": {},
   "outputs": [
    {
     "name": "stdout",
     "output_type": "stream",
     "text": [
      "332 μs ± 81.5 ns per loop (mean ± std. dev. of 7 runs, 1,000 loops each)\n"
     ]
    }
   ],
   "source": [
    "%timeit test_func_sm(slice_test_s, beam_test_m)"
   ]
  },
  {
   "cell_type": "code",
   "execution_count": null,
   "id": "c53ec469-d43c-454f-ab0f-f354e996b704",
   "metadata": {},
   "outputs": [
    {
     "ename": "TypeError",
     "evalue": "Scanned function carry input and carry output must have equal types (e.g. shapes and dtypes of arrays), but they differ:\n  * the input carry component carry[0] has type complex64[256,256] but the corresponding output carry component has type complex128[256,256], so the dtypes do not match\n\nRevise the scanned function so that all output types (e.g. shapes and dtypes) match the corresponding input types.",
     "output_type": "error",
     "traceback": [
      "\u001b[0;31m---------------------------------------------------------------------------\u001b[0m",
      "\u001b[0;31mTypeError\u001b[0m                                 Traceback (most recent call last)",
      "Cell \u001b[0;32mIn[7], line 1\u001b[0m\n\u001b[0;32m----> 1\u001b[0m \u001b[43mget_ipython\u001b[49m\u001b[43m(\u001b[49m\u001b[43m)\u001b[49m\u001b[38;5;241;43m.\u001b[39;49m\u001b[43mrun_line_magic\u001b[49m\u001b[43m(\u001b[49m\u001b[38;5;124;43m'\u001b[39;49m\u001b[38;5;124;43mtimeit\u001b[39;49m\u001b[38;5;124;43m'\u001b[39;49m\u001b[43m,\u001b[49m\u001b[43m \u001b[49m\u001b[38;5;124;43m'\u001b[39;49m\u001b[38;5;124;43mtest_func_ms(slice_test_m, beam_test_s, jnp.float64(1.003), jnp.float64(60.001), jnp.float64(0.01))\u001b[39;49m\u001b[38;5;124;43m'\u001b[39;49m\u001b[43m)\u001b[49m\n",
      "File \u001b[0;32m~/anaconda3/envs/jax/lib/python3.12/site-packages/IPython/core/interactiveshell.py:2480\u001b[0m, in \u001b[0;36mInteractiveShell.run_line_magic\u001b[0;34m(self, magic_name, line, _stack_depth)\u001b[0m\n\u001b[1;32m   2478\u001b[0m     kwargs[\u001b[38;5;124m'\u001b[39m\u001b[38;5;124mlocal_ns\u001b[39m\u001b[38;5;124m'\u001b[39m] \u001b[38;5;241m=\u001b[39m \u001b[38;5;28mself\u001b[39m\u001b[38;5;241m.\u001b[39mget_local_scope(stack_depth)\n\u001b[1;32m   2479\u001b[0m \u001b[38;5;28;01mwith\u001b[39;00m \u001b[38;5;28mself\u001b[39m\u001b[38;5;241m.\u001b[39mbuiltin_trap:\n\u001b[0;32m-> 2480\u001b[0m     result \u001b[38;5;241m=\u001b[39m \u001b[43mfn\u001b[49m\u001b[43m(\u001b[49m\u001b[38;5;241;43m*\u001b[39;49m\u001b[43margs\u001b[49m\u001b[43m,\u001b[49m\u001b[43m \u001b[49m\u001b[38;5;241;43m*\u001b[39;49m\u001b[38;5;241;43m*\u001b[39;49m\u001b[43mkwargs\u001b[49m\u001b[43m)\u001b[49m\n\u001b[1;32m   2482\u001b[0m \u001b[38;5;66;03m# The code below prevents the output from being displayed\u001b[39;00m\n\u001b[1;32m   2483\u001b[0m \u001b[38;5;66;03m# when using magics with decorator @output_can_be_silenced\u001b[39;00m\n\u001b[1;32m   2484\u001b[0m \u001b[38;5;66;03m# when the last Python token in the expression is a ';'.\u001b[39;00m\n\u001b[1;32m   2485\u001b[0m \u001b[38;5;28;01mif\u001b[39;00m \u001b[38;5;28mgetattr\u001b[39m(fn, magic\u001b[38;5;241m.\u001b[39mMAGIC_OUTPUT_CAN_BE_SILENCED, \u001b[38;5;28;01mFalse\u001b[39;00m):\n",
      "File \u001b[0;32m~/anaconda3/envs/jax/lib/python3.12/site-packages/IPython/core/magics/execution.py:1185\u001b[0m, in \u001b[0;36mExecutionMagics.timeit\u001b[0;34m(self, line, cell, local_ns)\u001b[0m\n\u001b[1;32m   1183\u001b[0m \u001b[38;5;28;01mfor\u001b[39;00m index \u001b[38;5;129;01min\u001b[39;00m \u001b[38;5;28mrange\u001b[39m(\u001b[38;5;241m0\u001b[39m, \u001b[38;5;241m10\u001b[39m):\n\u001b[1;32m   1184\u001b[0m     number \u001b[38;5;241m=\u001b[39m \u001b[38;5;241m10\u001b[39m \u001b[38;5;241m*\u001b[39m\u001b[38;5;241m*\u001b[39m index\n\u001b[0;32m-> 1185\u001b[0m     time_number \u001b[38;5;241m=\u001b[39m \u001b[43mtimer\u001b[49m\u001b[38;5;241;43m.\u001b[39;49m\u001b[43mtimeit\u001b[49m\u001b[43m(\u001b[49m\u001b[43mnumber\u001b[49m\u001b[43m)\u001b[49m\n\u001b[1;32m   1186\u001b[0m     \u001b[38;5;28;01mif\u001b[39;00m time_number \u001b[38;5;241m>\u001b[39m\u001b[38;5;241m=\u001b[39m \u001b[38;5;241m0.2\u001b[39m:\n\u001b[1;32m   1187\u001b[0m         \u001b[38;5;28;01mbreak\u001b[39;00m\n",
      "File \u001b[0;32m~/anaconda3/envs/jax/lib/python3.12/site-packages/IPython/core/magics/execution.py:173\u001b[0m, in \u001b[0;36mTimer.timeit\u001b[0;34m(self, number)\u001b[0m\n\u001b[1;32m    171\u001b[0m gc\u001b[38;5;241m.\u001b[39mdisable()\n\u001b[1;32m    172\u001b[0m \u001b[38;5;28;01mtry\u001b[39;00m:\n\u001b[0;32m--> 173\u001b[0m     timing \u001b[38;5;241m=\u001b[39m \u001b[38;5;28;43mself\u001b[39;49m\u001b[38;5;241;43m.\u001b[39;49m\u001b[43minner\u001b[49m\u001b[43m(\u001b[49m\u001b[43mit\u001b[49m\u001b[43m,\u001b[49m\u001b[43m \u001b[49m\u001b[38;5;28;43mself\u001b[39;49m\u001b[38;5;241;43m.\u001b[39;49m\u001b[43mtimer\u001b[49m\u001b[43m)\u001b[49m\n\u001b[1;32m    174\u001b[0m \u001b[38;5;28;01mfinally\u001b[39;00m:\n\u001b[1;32m    175\u001b[0m     \u001b[38;5;28;01mif\u001b[39;00m gcold:\n",
      "File \u001b[0;32m<magic-timeit>:1\u001b[0m, in \u001b[0;36minner\u001b[0;34m(_it, _timer)\u001b[0m\n",
      "    \u001b[0;31m[... skipping hidden 11 frame]\u001b[0m\n",
      "File \u001b[0;32m~/ptyrodactyl/src/ptyrodactyl/electrons/forward.py:405\u001b[0m, in \u001b[0;36mcbed_multi_slice_single_beam\u001b[0;34m(pot_slice, beam, slice_thickness, voltage_kV, calib_ang)\u001b[0m\n\u001b[1;32m    402\u001b[0m     \u001b[38;5;28;01mreturn\u001b[39;00m (new_real_space_convolve, beam), \u001b[38;5;28;01mNone\u001b[39;00m\n\u001b[1;32m    404\u001b[0m initial_carry \u001b[38;5;241m=\u001b[39m (jnp\u001b[38;5;241m.\u001b[39mones_like(beam, dtype\u001b[38;5;241m=\u001b[39mjnp\u001b[38;5;241m.\u001b[39mcomplex64), beam)\n\u001b[0;32m--> 405\u001b[0m (real_space_convolve, _), _ \u001b[38;5;241m=\u001b[39m \u001b[43mjax\u001b[49m\u001b[38;5;241;43m.\u001b[39;49m\u001b[43mlax\u001b[49m\u001b[38;5;241;43m.\u001b[39;49m\u001b[43mscan\u001b[49m\u001b[43m(\u001b[49m\n\u001b[1;32m    406\u001b[0m \u001b[43m    \u001b[49m\u001b[43mbody_fun\u001b[49m\u001b[43m,\u001b[49m\u001b[43m \u001b[49m\u001b[43minitial_carry\u001b[49m\u001b[43m,\u001b[49m\u001b[43m \u001b[49m\u001b[43mpot_slice\u001b[49m\u001b[38;5;241;43m.\u001b[39;49m\u001b[43mtranspose\u001b[49m\u001b[43m(\u001b[49m\u001b[38;5;241;43m2\u001b[39;49m\u001b[43m,\u001b[49m\u001b[43m \u001b[49m\u001b[38;5;241;43m0\u001b[39;49m\u001b[43m,\u001b[49m\u001b[43m \u001b[49m\u001b[38;5;241;43m1\u001b[39;49m\u001b[43m)\u001b[49m\n\u001b[1;32m    407\u001b[0m \u001b[43m\u001b[49m\u001b[43m)\u001b[49m\n\u001b[1;32m    409\u001b[0m fourier_space: Complex[Array, \u001b[38;5;124m\"\u001b[39m\u001b[38;5;124mH W\u001b[39m\u001b[38;5;124m\"\u001b[39m] \u001b[38;5;241m=\u001b[39m jnp\u001b[38;5;241m.\u001b[39mfft\u001b[38;5;241m.\u001b[39mfftshift(\n\u001b[1;32m    410\u001b[0m     jnp\u001b[38;5;241m.\u001b[39mfft\u001b[38;5;241m.\u001b[39mfft2(real_space_convolve)\n\u001b[1;32m    411\u001b[0m )\n\u001b[1;32m    412\u001b[0m cbed: Float[Array, \u001b[38;5;124m\"\u001b[39m\u001b[38;5;124mH W\u001b[39m\u001b[38;5;124m\"\u001b[39m] \u001b[38;5;241m=\u001b[39m jnp\u001b[38;5;241m.\u001b[39msquare(jnp\u001b[38;5;241m.\u001b[39mabs(fourier_space))\n",
      "    \u001b[0;31m[... skipping hidden 2 frame]\u001b[0m\n",
      "File \u001b[0;32m~/anaconda3/envs/jax/lib/python3.12/site-packages/jax/_src/lax/control_flow/loops.py:375\u001b[0m, in \u001b[0;36m_check_scan_carry_type\u001b[0;34m(body_fun, in_carry, out_carry_tree, out_avals)\u001b[0m\n\u001b[1;32m    368\u001b[0m \u001b[38;5;28;01mif\u001b[39;00m \u001b[38;5;129;01mnot\u001b[39;00m \u001b[38;5;28mall\u001b[39m(_map(core\u001b[38;5;241m.\u001b[39mtypematch, in_avals, out_avals)):\n\u001b[1;32m    369\u001b[0m   differences \u001b[38;5;241m=\u001b[39m \u001b[38;5;124m'\u001b[39m\u001b[38;5;130;01m\\n\u001b[39;00m\u001b[38;5;124m'\u001b[39m\u001b[38;5;241m.\u001b[39mjoin(\n\u001b[1;32m    370\u001b[0m       \u001b[38;5;124mf\u001b[39m\u001b[38;5;124m'\u001b[39m\u001b[38;5;124m  * \u001b[39m\u001b[38;5;132;01m{\u001b[39;00mcomponent(path)\u001b[38;5;132;01m}\u001b[39;00m\u001b[38;5;124m has type \u001b[39m\u001b[38;5;132;01m{\u001b[39;00min_aval\u001b[38;5;241m.\u001b[39mstr_short()\u001b[38;5;132;01m}\u001b[39;00m\u001b[38;5;124m'\u001b[39m\n\u001b[1;32m    371\u001b[0m       \u001b[38;5;124m'\u001b[39m\u001b[38;5;124m but the corresponding output carry component has type \u001b[39m\u001b[38;5;124m'\u001b[39m\n\u001b[1;32m    372\u001b[0m       \u001b[38;5;124mf\u001b[39m\u001b[38;5;124m'\u001b[39m\u001b[38;5;132;01m{\u001b[39;00mout_aval\u001b[38;5;241m.\u001b[39mstr_short()\u001b[38;5;132;01m}\u001b[39;00m\u001b[38;5;132;01m{\u001b[39;00m_aval_mismatch_extra(in_aval,\u001b[38;5;250m \u001b[39mout_aval)\u001b[38;5;132;01m}\u001b[39;00m\u001b[38;5;130;01m\\n\u001b[39;00m\u001b[38;5;124m'\u001b[39m\n\u001b[1;32m    373\u001b[0m       \u001b[38;5;28;01mfor\u001b[39;00m path, in_aval, out_aval \u001b[38;5;129;01min\u001b[39;00m \u001b[38;5;28mzip\u001b[39m(paths, in_avals, out_avals)\n\u001b[1;32m    374\u001b[0m       \u001b[38;5;28;01mif\u001b[39;00m \u001b[38;5;129;01mnot\u001b[39;00m core\u001b[38;5;241m.\u001b[39mtypematch(in_aval, out_aval))\n\u001b[0;32m--> 375\u001b[0m   \u001b[38;5;28;01mraise\u001b[39;00m \u001b[38;5;167;01mTypeError\u001b[39;00m(\n\u001b[1;32m    376\u001b[0m       \u001b[38;5;124m\"\u001b[39m\u001b[38;5;124mScanned function carry input and carry output must have equal types \u001b[39m\u001b[38;5;124m\"\u001b[39m\n\u001b[1;32m    377\u001b[0m       \u001b[38;5;124m\"\u001b[39m\u001b[38;5;124m(e.g. shapes and dtypes of arrays), \u001b[39m\u001b[38;5;124m\"\u001b[39m\n\u001b[1;32m    378\u001b[0m       \u001b[38;5;124m\"\u001b[39m\u001b[38;5;124mbut they differ:\u001b[39m\u001b[38;5;130;01m\\n\u001b[39;00m\u001b[38;5;124m\"\u001b[39m\n\u001b[1;32m    379\u001b[0m       \u001b[38;5;124mf\u001b[39m\u001b[38;5;124m\"\u001b[39m\u001b[38;5;132;01m{\u001b[39;00mdifferences\u001b[38;5;132;01m}\u001b[39;00m\u001b[38;5;130;01m\\n\u001b[39;00m\u001b[38;5;124m\"\u001b[39m\n\u001b[1;32m    380\u001b[0m       \u001b[38;5;124m\"\u001b[39m\u001b[38;5;124mRevise the scanned function so that all output types (e.g. shapes \u001b[39m\u001b[38;5;124m\"\u001b[39m\n\u001b[1;32m    381\u001b[0m       \u001b[38;5;124m\"\u001b[39m\u001b[38;5;124mand dtypes) match the corresponding input types.\u001b[39m\u001b[38;5;124m\"\u001b[39m\n\u001b[1;32m    382\u001b[0m   )\n",
      "\u001b[0;31mTypeError\u001b[0m: Scanned function carry input and carry output must have equal types (e.g. shapes and dtypes of arrays), but they differ:\n  * the input carry component carry[0] has type complex64[256,256] but the corresponding output carry component has type complex128[256,256], so the dtypes do not match\n\nRevise the scanned function so that all output types (e.g. shapes and dtypes) match the corresponding input types."
     ]
    }
   ],
   "source": [
    "%timeit test_func_ms(slice_test_m, beam_test_s, jnp.float64(1.003), jnp.float64(60.001), jnp.float64(0.01))"
   ]
  },
  {
   "cell_type": "code",
   "execution_count": null,
   "id": "c1839130-6ec1-4166-b12d-9870b234f537",
   "metadata": {},
   "outputs": [],
   "source": [
    "help(pte.propagation_func)"
   ]
  },
  {
   "cell_type": "code",
   "execution_count": null,
   "id": "e9294938-3258-4a30-a75a-ceb78acf2491",
   "metadata": {},
   "outputs": [],
   "source": [
    "def propagation_func(\n",
    "    imsize_y: int,\n",
    "    imsize_x: int,\n",
    "    thickness_ang: Float[Array, \"*\"],\n",
    "    voltage_kV: Float[Array, \"*\"],\n",
    "    calib_ang: Float[Array, \"*\"],\n",
    ") -> Complex[Array, \"H W\"]:\n",
    "    \"\"\"\n",
    "    Calculates the complex propagation function that results\n",
    "    in the phase shift of the exit wave when it travels from\n",
    "    one slice to the next in the multislice algorithm\n",
    "\n",
    "    Args:\n",
    "    - `imsize`, (Int[Array, \"2\"]):\n",
    "        Size of the image of the propagator\n",
    "    -  `thickness_ang`, (Float[Array, \"*\"])\n",
    "        Distance between the slices in angstroms\n",
    "    - `voltage_kV`, (Float[Array, \"*\"])\n",
    "        Accelerating voltage in kilovolts\n",
    "    - `calib_ang`, (Float[Array, \"*\"])\n",
    "        Calibration or pixel size in angstroms\n",
    "\n",
    "    Returns:\n",
    "    - `prop` Complex[Array, \"H W\"]:\n",
    "        The propagation function of the same size given by imsize\n",
    "    \"\"\"\n",
    "    # Generate frequency arrays directly using fftfreq\n",
    "    qy: Float[Array, \"H\"] = jnp.fft.fftfreq(imsize_y, d=calib_ang)\n",
    "    qx: Float[Array, \"W\"] = jnp.fft.fftfreq(imsize_x, d=calib_ang)\n",
    "\n",
    "    # Create 2D meshgrid of frequencies\n",
    "    Lya, Lxa = jnp.meshgrid(qy, qx, indexing=\"ij\")\n",
    "\n",
    "    # Calculate squared sum of frequencies\n",
    "    L_sq: Float[Array, \"H W\"] = jnp.square(Lxa) + jnp.square(Lya)\n",
    "\n",
    "    # Calculate wavelength\n",
    "    lambda_angstrom: float = pte.wavelength_ang(voltage_kV)\n",
    "\n",
    "    # Compute the propagation function\n",
    "    prop: Complex[Array, \"H W\"] = jnp.exp(\n",
    "        (-1j) * jnp.pi * lambda_angstrom * thickness_ang * L_sq\n",
    "    )\n",
    "    return prop"
   ]
  },
  {
   "cell_type": "code",
   "execution_count": null,
   "id": "a4b0835d-1839-42f9-b867-d6d1199ad38f",
   "metadata": {},
   "outputs": [],
   "source": [
    "pf = jax.jit(propagation_func, static_argnums=(0, 1))"
   ]
  },
  {
   "cell_type": "code",
   "execution_count": null,
   "id": "ef3abb9f-854c-4c64-8024-1657eb54138e",
   "metadata": {},
   "outputs": [],
   "source": [
    "pf(256, 256, jnp.float64(1), jnp.float64(60), jnp.float64(0.01))"
   ]
  },
  {
   "cell_type": "code",
   "execution_count": null,
   "id": "787e0434-b0fc-414c-920c-ac9b9022df11",
   "metadata": {},
   "outputs": [],
   "source": []
  }
 ],
 "metadata": {
  "kernelspec": {
   "display_name": "jax",
   "language": "python",
   "name": "jax"
  }
 },
 "nbformat": 4,
 "nbformat_minor": 5
}
