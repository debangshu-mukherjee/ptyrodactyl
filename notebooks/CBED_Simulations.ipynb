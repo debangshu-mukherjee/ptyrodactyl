{
 "cells": [
  {
   "cell_type": "code",
   "execution_count": null,
   "id": "2826bcd5-2d96-4624-b449-f02734f5b890",
   "metadata": {},
   "outputs": [],
   "source": [
    "import jax\n",
    "import jax.numpy as jnp\n",
    "import ptyrodactyl.electrons as pte\n",
    "from jaxtyping import Array, Float, Shaped, Int, Complex"
   ]
  },
  {
   "cell_type": "code",
   "execution_count": null,
   "id": "ba98c8ad-500b-4024-97c8-b4bab7e149ac",
   "metadata": {},
   "outputs": [],
   "source": [
    "%load_ext autoreload\n",
    "%autoreload 2"
   ]
  },
  {
   "cell_type": "code",
   "execution_count": null,
   "id": "3c3ead73-db56-4e8a-aa0d-0579420378b0",
   "metadata": {},
   "outputs": [],
   "source": [
    "jax.config.update(\"jax_enable_x64\", True)"
   ]
  },
  {
   "cell_type": "code",
   "execution_count": null,
   "id": "b6f25787-8bfe-49ff-9889-efd7ba19df59",
   "metadata": {},
   "outputs": [
    {
     "name": "stderr",
     "output_type": "stream",
     "text": [
      "2024-08-22 13:07:52.574811: W external/xla/xla/service/gpu/nvptx_compiler.cc:836] The NVIDIA driver's CUDA version is 12.5 which is older than the PTX compiler version (12.6.20). Because the driver is older than the PTX compiler version, XLA is disabling parallel compilation, which may slow down compilation. You should update your NVIDIA driver or use the NVIDIA-provided CUDA forward compatibility packages.\n"
     ]
    }
   ],
   "source": [
    "beam_test_s = jnp.ones((256, 256), dtype=jnp.complex64)\n",
    "slice_test_s = jnp.ones((256, 256), dtype=jnp.complex64)\n",
    "\n",
    "beam_test_m = jnp.ones((256, 256, 32), dtype=jnp.complex64)\n",
    "slice_test_m = jnp.ones((256, 256, 500), dtype=jnp.complex64)"
   ]
  },
  {
   "cell_type": "code",
   "execution_count": null,
   "id": "761afa7b-06fd-48dd-bcb9-b0a53986d923",
   "metadata": {},
   "outputs": [],
   "source": [
    "test_func_ss = jax.jit(pte.cbed_single_slice_single_beam)\n",
    "test_func_sm = jax.jit(pte.cbed_single_slice_multi_beam)\n",
    "test_func_ms = jax.jit(pte.cbed_multi_slice_single_beam)\n",
    "test_func_mm = jax.jit(pte.cbed_multi_slice_multi_beam)"
   ]
  },
  {
   "cell_type": "code",
   "execution_count": null,
   "id": "c945f2f3-0018-4dbf-892d-668496c402d5",
   "metadata": {},
   "outputs": [
    {
     "name": "stdout",
     "output_type": "stream",
     "text": [
      "45.2 μs ± 232 ns per loop (mean ± std. dev. of 7 runs, 10,000 loops each)\n"
     ]
    }
   ],
   "source": [
    "%timeit test_func_ss(slice_test_s, beam_test_s)"
   ]
  },
  {
   "cell_type": "code",
   "execution_count": null,
   "id": "f7dad9d2-f8dd-49ee-8df9-368f7158a5e7",
   "metadata": {},
   "outputs": [
    {
     "name": "stdout",
     "output_type": "stream",
     "text": [
      "333 μs ± 307 ns per loop (mean ± std. dev. of 7 runs, 1,000 loops each)\n"
     ]
    }
   ],
   "source": [
    "%timeit test_func_sm(slice_test_s, beam_test_m)"
   ]
  },
  {
   "cell_type": "code",
   "execution_count": null,
   "id": "c53ec469-d43c-454f-ab0f-f354e996b704",
   "metadata": {},
   "outputs": [
    {
     "name": "stdout",
     "output_type": "stream",
     "text": [
      "49.7 ms ± 3.62 ms per loop (mean ± std. dev. of 7 runs, 1 loop each)\n"
     ]
    }
   ],
   "source": [
    "%timeit test_func_ms(slice_test_m, beam_test_s, jnp.float64(1.003), jnp.float64(60.001), jnp.float64(0.01))"
   ]
  },
  {
   "cell_type": "code",
   "execution_count": null,
   "id": "c6f54a07-eb1f-421a-ae75-db869a344f21",
   "metadata": {},
   "outputs": [
    {
     "name": "stdout",
     "output_type": "stream",
     "text": [
      "1.14 s ± 200 μs per loop (mean ± std. dev. of 7 runs, 1 loop each)\n"
     ]
    }
   ],
   "source": [
    "%timeit test_func_mm(jnp.ones((256, 256, 500), dtype=jnp.complex64), jnp.ones((256, 256, 32), dtype=jnp.complex64), jnp.float64(1.003), jnp.float64(60.001), jnp.float64(0.01))"
   ]
  },
  {
   "cell_type": "code",
   "execution_count": null,
   "id": "42c8431f-3385-4eb7-80df-9a9e87bf11b6",
   "metadata": {},
   "outputs": [],
   "source": [
    "cc = jnp.atleast_3d(beam_test_s)"
   ]
  },
  {
   "cell_type": "code",
   "execution_count": null,
   "id": "5129ee8b-7672-46e6-a1c7-73ab9429468b",
   "metadata": {},
   "outputs": [
    {
     "name": "stdout",
     "output_type": "stream",
     "text": [
      "Variable       Type                  Data/Info\n",
      "----------------------------------------------\n",
      "Array          ABCMeta               <class 'jax.Array'>\n",
      "Complex        _MetaAbstractDtype    <class 'jaxtyping.Complex'>\n",
      "Float          _MetaAbstractDtype    <class 'jaxtyping.Float'>\n",
      "Int            _MetaAbstractDtype    <class 'jaxtyping.Int'>\n",
      "Shaped         _MetaAbstractDtype    <class 'jaxtyping.Shaped'>\n",
      "beam_test_m    ArrayImpl             [[[1.+0.j 1.+0.j 1.+0.j .<...>. 1.+0.j 1.+0.j 1.+0.j]]]\n",
      "beam_test_s    ArrayImpl             [[1.+0.j 1.+0.j 1.+0.j ..<...>.. 1.+0.j 1.+0.j 1.+0.j]]\n",
      "cc             ArrayImpl             [[[1.+0.j]\\n  [1.+0.j]\\n <...>n  [1.+0.j]\\n  [1.+0.j]]]\n",
      "jax            module                <module 'jax' from '/home<...>ackages/jax/__init__.py'>\n",
      "jnp            module                <module 'jax.numpy' from <...>s/jax/numpy/__init__.py'>\n",
      "pte            module                <module 'ptyrodactyl.elec<...>l/electrons/__init__.py'>\n",
      "slice_test_m   ArrayImpl             [[[1.+0.j 1.+0.j 1.+0.j .<...>. 1.+0.j 1.+0.j 1.+0.j]]]\n",
      "slice_test_s   ArrayImpl             [[1.+0.j 1.+0.j 1.+0.j ..<...>.. 1.+0.j 1.+0.j 1.+0.j]]\n",
      "test_func_mm   PjitFunction          <PjitFunction of <functio<...>_beam>>\n",
      "test_func_ms   PjitFunction          <PjitFunction of <functio<...>_beam>>\n",
      "test_func_sm   PjitFunction          <PjitFunction of <functio<...>_beam>>\n",
      "test_func_ss   PjitFunction          <PjitFunction of <functio<...>_beam>>\n"
     ]
    }
   ],
   "source": [
    "whos"
   ]
  },
  {
   "cell_type": "code",
   "execution_count": null,
   "id": "bf69faaa-9b71-4e39-a69e-ee8aafb2d679",
   "metadata": {},
   "outputs": [],
   "source": []
  }
 ],
 "metadata": {
  "kernelspec": {
   "display_name": "jax",
   "language": "python",
   "name": "jax"
  }
 },
 "nbformat": 4,
 "nbformat_minor": 5
}
